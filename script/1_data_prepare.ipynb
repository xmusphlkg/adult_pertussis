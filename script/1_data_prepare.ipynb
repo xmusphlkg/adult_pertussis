{
 "cells": [
  {
   "cell_type": "markdown",
   "metadata": {},
   "source": [
    "# Merge ZIP CSV Files into SQLite Database and Split by `measure_name`\n",
    "\n",
    "This script processes multiple ZIP files, each containing a CSV file with the same name as the ZIP file.\n",
    "It extracts the CSV files, merges their data into a single DataFrame, and writes the combined data into an SQLite database.\n",
    "The data is split into multiple tables based on the unique values in the `measure_name` column.\n",
    "\n",
    "## Dependencies\n",
    "- Python 3.10.8\n",
    "- Libraries: os, zipfile, pandas, sqlite3, multiprocessing\n",
    "\n",
    "## Usage\n",
    "1. Place this notebook in the same directory as the `data/download` folder containing the ZIP files.\n",
    "2. Run all cells in the notebook.\n",
    "3. A SQLite database named `merged_data.db` will be created in the current directory.\n",
    "\n",
    "## Output\n",
    "- A SQLite database file (`merged_data.db`) containing multiple tables, one for each unique value in the `measure_name` column.\n",
    "- Each table is named after the corresponding `measure_name` value."
   ]
  },
  {
   "cell_type": "code",
   "execution_count": null,
   "metadata": {},
   "outputs": [],
   "source": [
    "import os\n",
    "import zipfile\n",
    "import pandas as pd\n",
    "import sqlite3\n",
    "from multiprocessing import Pool, cpu_count\n",
    "\n",
    "# Define relative paths\n",
    "zip_folder = os.path.join(\"../data\", \"download\")  # Folder containing ZIP files\n",
    "db_path = \"merged_data.db\"  # SQLite database file path (created in the current directory)\n",
    "\n",
    "# Function to process a single ZIP file and return its DataFrame\n",
    "def process_zip_file(zip_file_name):\n",
    "    try:\n",
    "        zip_file_path = os.path.join(zip_folder, zip_file_name)\n",
    "        with zipfile.ZipFile(zip_file_path, 'r') as zip_ref:\n",
    "            csv_file_name = os.path.splitext(zip_file_name)[0] + \".csv\"\n",
    "            if csv_file_name in zip_ref.namelist():\n",
    "                extracted_path = zip_ref.extract(csv_file_name, path=\"temp\")\n",
    "                df = pd.read_csv(extracted_path)\n",
    "                os.remove(extracted_path)\n",
    "                print(f\"Processed: {zip_file_name}\")\n",
    "                # Drop columns with `_id` in their names\n",
    "                df = df.drop(columns=[col for col in df.columns if \"_id\" in col])\n",
    "                return df\n",
    "            else:\n",
    "                print(f\"Warning: No CSV found in {zip_file_name}\")\n",
    "                return None\n",
    "    except Exception as e:\n",
    "        print(f\"Error processing {zip_file_name}: {e}\")\n",
    "        return None"
   ]
  },
  {
   "cell_type": "code",
   "execution_count": null,
   "metadata": {},
   "outputs": [],
   "source": [
    "# create temp folder to store extracted files\n",
    "if not os.path.exists(\"temp\"):\n",
    "    os.makedirs(\"temp\")\n",
    "\n",
    "# Process all ZIP files in parallel\n",
    "zip_files = [f for f in os.listdir(zip_folder) if f.endswith(\".zip\")]\n",
    "pool_size = min(cpu_count(), len(zip_files))\n",
    "print(f\"Using {pool_size} processes...\")\n",
    "\n",
    "with Pool(pool_size) as pool:\n",
    "    results = pool.map(process_zip_file, zip_files)\n",
    "\n",
    "combined_df = pd.concat([df for df in results if df is not None], ignore_index=True)\n",
    "\n",
    "if os.path.exists(\"temp\"):\n",
    "    os.rmdir(\"temp\")\n",
    "\n",
    "conn = sqlite3.connect(db_path)\n",
    "unique_measures = combined_df[\"measure_name\"].unique()\n",
    "\n",
    "for measure in unique_measures:\n",
    "    measure_df = combined_df[combined_df[\"measure_name\"] == measure]\n",
    "    table_name = f\"measure_{measure.lower().replace(' ', '_').replace('-', '_')}\"\n",
    "    measure_df.to_sql(table_name, conn, if_exists=\"replace\", index=False)\n",
    "    print(f\"Created table: {table_name}\")\n",
    "\n",
    "conn.close()\n",
    "print(\"All data written to the database.\")"
   ]
  }
 ],
 "metadata": {
  "kernelspec": {
   "display_name": ".venv",
   "language": "python",
   "name": "python3"
  },
  "language_info": {
   "codemirror_mode": {
    "name": "ipython",
    "version": 3
   },
   "file_extension": ".py",
   "mimetype": "text/x-python",
   "name": "python",
   "nbconvert_exporter": "python",
   "pygments_lexer": "ipython3",
   "version": "3.10.8"
  }
 },
 "nbformat": 4,
 "nbformat_minor": 2
}
